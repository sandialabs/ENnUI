{
 "cells": [
  {
   "cell_type": "markdown",
   "metadata": {},
   "source": [
    "# Python ENnUI Demo\n",
    "Demonstrate calling compiled `ennui` with `nanobind` bindings from python as `pyennui`. Compare results against pure-python implementation both for accuracy and computational cost.\n"
   ]
  },
  {
   "cell_type": "code",
   "execution_count": 1,
   "metadata": {},
   "outputs": [],
   "source": [
    "# Setup\n",
    "import sys\n",
    "import os\n",
    "\n",
    "# C++ compiled with nanobind bindings\n",
    "# sys.path.append(os.path.join(\"..\", \"..\", \"build\", \"bin\", \"Release\"))\n",
    "import pyennui\n",
    "\n",
    "# Pure-python implementation\n",
    "sys.path.append(os.path.join(\"..\", \"..\", \"python\", \"reference\"))\n",
    "import pure_ennui\n",
    "\n",
    "import numpy as np\n",
    "from timeit import default_timer as timer\n",
    "\n",
    "error_abs = lambda x, y: np.linalg.norm(x - y, np.inf)\n",
    "error_rel = lambda x, y: np.linalg.norm(\n",
    "    (x - y) / (np.maximum(np.abs(x), np.abs(y))), np.inf\n",
    ")\n",
    "print_error_abs = lambda str, x, y: print(\n",
    "    \"Rel. err., %s : %.2e\" % (str, error_abs(x, y))\n",
    ")\n",
    "print_error_rel = lambda str, x, y: print(\n",
    "    \"Abs. err., %s : %.2e\" % (str, error_rel(x, y))\n",
    ")\n",
    "print_time = lambda str, start, end: print(\"%s : %e\" % (str, end - start))\n",
    "\n",
    "tol = 1e-14"
   ]
  },
  {
   "cell_type": "markdown",
   "metadata": {},
   "source": [
    "## Help\n",
    "Automated help displays available methods and arguments"
   ]
  },
  {
   "cell_type": "code",
   "execution_count": 2,
   "metadata": {},
   "outputs": [
    {
     "name": "stdout",
     "output_type": "stream",
     "text": [
      "Help on module pyennui:\n",
      "\n",
      "NAME\n",
      "    pyennui\n",
      "\n",
      "SUBMODULES\n",
      "    geodetic\n",
      "    math\n",
      "    mechanization\n",
      "\n",
      "DATA\n",
      "    normalize_SO3_return_arg = <nanobind.nb_func object>\n",
      "        normalize_SO3_return_arg(arg0: numpy.ndarray[dtype=float64, writable=False, shape=(3, 3), order='*'], arg1: numpy.ndarray[dtype=float64, shape=(3, 3), order='*'], /) -> None\n",
      "\n",
      "FILE\n",
      "    c:\\users\\mrwalke\\appdata\\local\\anaconda3\\envs\\ennui_dev\\lib\\site-packages\\pyennui.pyd\n",
      "\n",
      "\n"
     ]
    }
   ],
   "source": [
    "help(pyennui)"
   ]
  },
  {
   "cell_type": "markdown",
   "metadata": {},
   "source": [
    "## Validate gravitation model\n",
    "`gravitation_ecef` returns gravitation vector as a function of ECEF coordinates. Contrast against reference and pure-python implementations."
   ]
  },
  {
   "cell_type": "code",
   "execution_count": 3,
   "metadata": {},
   "outputs": [
    {
     "name": "stdout",
     "output_type": "stream",
     "text": [
      "Timing, pure-python : 4.455900e-03\n",
      "Timing, C++         : 1.283100e-03\n",
      "Rel. err., C++ vs. pure-py : 0.00e+00\n",
      "Rel. err., C++ vs. ref.    : 1.78e-15\n"
     ]
    }
   ],
   "source": [
    "WhiteHouse_ECEF = np.array(\n",
    "    (1.1150423452941689e06, -4.8438122981491517e06, 3.9835202164462707e06)\n",
    ")\n",
    "WhiteHouse_gamma = np.array(\n",
    "    (-1.7170260919766687e00, 7.4588665943134185e00, -6.1541304311837033e00)\n",
    ")\n",
    "p = WhiteHouse_ECEF\n",
    "\n",
    "N = 1000\n",
    "\n",
    "# Pure-python\n",
    "start = timer()\n",
    "for _ in range(N):\n",
    "    gamma_pure = pure_ennui.geodetic.gravitation_ecef(p)\n",
    "end = timer()\n",
    "print_time(\"Timing, pure-python\", start, end)\n",
    "\n",
    "# C++\n",
    "start = timer()\n",
    "for _ in range(N):\n",
    "    gamma = pyennui.geodetic.gravitation_ecef(p)\n",
    "end = timer()\n",
    "print_time(\"Timing, C++        \", start, end)\n",
    "\n",
    "print_error_abs(\"C++ vs. pure-py\", gamma, gamma_pure)\n",
    "print_error_abs(\"C++ vs. ref.   \", gamma, WhiteHouse_gamma)\n",
    "assert error_rel(gamma, WhiteHouse_gamma) < tol, \"C++ does not match reference.\""
   ]
  },
  {
   "cell_type": "markdown",
   "metadata": {},
   "source": [
    "## Matrix handling\n",
    "Demonstrate passing matrix through use of `normalize_SO3` which orthonormalizes a rotation matrix using singular-value decomposition."
   ]
  },
  {
   "cell_type": "code",
   "execution_count": 4,
   "metadata": {},
   "outputs": [
    {
     "name": "stdout",
     "output_type": "stream",
     "text": [
      "Rel. err., pre-orthonormalization  : 1.00e-03\n",
      "Rel. err., post-orthonormalization : 1.11e-16\n"
     ]
    }
   ],
   "source": [
    "m = np.eye(3)\n",
    "m[0, 1] = 1e-3\n",
    "print_error_abs(\"pre-orthonormalization \", m @ m.transpose(), np.eye(3))\n",
    "m = pyennui.math.normalize_SO3(m)\n",
    "print_error_abs(\"post-orthonormalization\", m @ m.transpose(), np.eye(3))\n",
    "assert error_abs(m @ m.transpose(), np.eye(3)) < tol, \"C++ does not match reference.\""
   ]
  },
  {
   "cell_type": "markdown",
   "metadata": {},
   "source": [
    "Comparable implementation returning as an argument."
   ]
  },
  {
   "cell_type": "code",
   "execution_count": 5,
   "metadata": {},
   "outputs": [
    {
     "name": "stdout",
     "output_type": "stream",
     "text": [
      "Rel. err., pre-orthonorm  : 1.00e-03\n",
      "Rel. err., post-orthonorm : 1.11e-16\n"
     ]
    }
   ],
   "source": [
    "# Using a return argument\n",
    "m = np.eye(3)\n",
    "m[0, 1] = 1e-3\n",
    "rslt = np.ndarray((3, 3))\n",
    "\n",
    "print_error_abs(\"pre-orthonorm \", m @ m.transpose(), np.eye(3))\n",
    "pyennui.normalize_SO3_return_arg(m, rslt)\n",
    "m = rslt\n",
    "print_error_abs(\"post-orthonorm\", m @ m.transpose(), np.eye(3))"
   ]
  },
  {
   "cell_type": "markdown",
   "metadata": {},
   "source": [
    "## State propagation\n",
    "Define initial state, inertial measurements, elapsed time, and final state as computed using a reference algorithm."
   ]
  },
  {
   "cell_type": "code",
   "execution_count": 6,
   "metadata": {},
   "outputs": [],
   "source": [
    "WhiteHouse_mean_prop = {\n",
    "    \"prior\": {\n",
    "        \"position\": np.array(\n",
    "            [1.115042345294169e06, -4.843812298149152e06, 3.983520216446271e06]\n",
    "        ),\n",
    "        \"velocity\": np.array(\n",
    "            [1.700252783993267e00, 5.799253612971604e00, -7.143100966293305e00]\n",
    "        ),\n",
    "        \"attitude\": np.matrix(\n",
    "            [\n",
    "                [\n",
    "                    -1.689390579588263e-01,\n",
    "                    -4.453768089569571e-01,\n",
    "                    -8.792605374627603e-01,\n",
    "                ],\n",
    "                [8.000355898459490e-01, -5.830041132072308e-01, 1.415954058693114e-01],\n",
    "                [-5.756758199506289e-01, -6.795187282384265e-01, 4.548094637289362e-01],\n",
    "            ]\n",
    "        ),\n",
    "    },\n",
    "    \"specific_force\": np.array(\n",
    "        [-2.351012554013630e00, 1.857770394070348e00, 1.940270045514844e01]\n",
    "    ),\n",
    "    \"angular_rate\": np.array(\n",
    "        [6.941949163919531e00, -3.383664771751461e00, 7.607424972048551e00]\n",
    "    ),\n",
    "    \"dt\": 1.000000000000000e-03,\n",
    "    \"posterior\": {\n",
    "        \"position\": np.array(\n",
    "            [1.115042346984841e06, -4.843812292346284e06, 3.983520209304588e06]\n",
    "        ),\n",
    "        \"velocity\": np.array(\n",
    "            [1.681091028114939e00, 5.806482921506987e00, -7.140263743663021e00]\n",
    "        ),\n",
    "        \"attitude\": np.matrix(\n",
    "            [\n",
    "                [\n",
    "                    -1.753142992423087e-01,\n",
    "                    -4.501584286525450e-01,\n",
    "                    -8.755696920258544e-01,\n",
    "                ],\n",
    "                [7.960624873695160e-01, -5.880875442140073e-01, 1.429599823146225e-01],\n",
    "                [-5.792662709706455e-01, -6.719452577802820e-01, 4.614543941305069e-01],\n",
    "            ]\n",
    "        ),\n",
    "    },\n",
    "}\n",
    "\n",
    "# Pre-allocate output\n",
    "posterior = {\n",
    "    \"position\": np.empty((3)),\n",
    "    \"velocity\": np.empty((3)),\n",
    "    \"attitude\": np.empty((3, 3)),\n",
    "}\n",
    "\n",
    "# Pre-compute gravitation vector\n",
    "gamma = pyennui.geodetic.gravitation_ecef(WhiteHouse_mean_prop[\"prior\"][\"position\"])"
   ]
  },
  {
   "cell_type": "code",
   "execution_count": 7,
   "metadata": {},
   "outputs": [
    {
     "name": "stdout",
     "output_type": "stream",
     "text": [
      "Timing, C++ : 3.068800e-03\n",
      "Abs. err., p : 2.34e-16\n",
      "Abs. err., v : 3.96e-16\n",
      "Abs. err., a : 5.26e-16\n",
      "Success!\n",
      "Timing, pure-python : 1.227745e-01\n",
      "Abs. err., p : 2.34e-16\n",
      "Abs. err., v : 3.96e-16\n",
      "Abs. err., a : 5.22e-16\n",
      "Success!\n"
     ]
    }
   ],
   "source": [
    "# Call C++ state-propagation\n",
    "\n",
    "N = 1000\n",
    "\n",
    "# Pure-python\n",
    "start = timer()\n",
    "for _ in range(N):\n",
    "    pyennui.mechanization.ecef.fwd_pva_S03(\n",
    "        WhiteHouse_mean_prop[\"prior\"][\"position\"],\n",
    "        WhiteHouse_mean_prop[\"prior\"][\"velocity\"],\n",
    "        WhiteHouse_mean_prop[\"prior\"][\"attitude\"],\n",
    "        gamma,\n",
    "        WhiteHouse_mean_prop[\"specific_force\"],\n",
    "        WhiteHouse_mean_prop[\"angular_rate\"],\n",
    "        WhiteHouse_mean_prop[\"dt\"],\n",
    "        posterior[\"position\"],\n",
    "        posterior[\"velocity\"],\n",
    "        posterior[\"attitude\"],\n",
    "    )\n",
    "\n",
    "end = timer()\n",
    "print_time(\"Timing, C++\", start, end)\n",
    "\n",
    "# Print results and error if tol exceeded\n",
    "for key in posterior:\n",
    "    rslt = posterior[key]\n",
    "    expected = WhiteHouse_mean_prop[\"posterior\"][key]\n",
    "    print_error_rel(\"%s\" % key[0], rslt, expected)\n",
    "    assert error_rel(rslt, expected) < tol, \"C++ does not match reference.\"\n",
    "print(\"Success!\")\n",
    "\n",
    "# Pure-python\n",
    "start = timer()\n",
    "for _ in range(N):\n",
    "    [posterior[\"position\"], posterior[\"velocity\"], posterior[\"attitude\"]] = (\n",
    "        pure_ennui.mechanization.ecef.fwd_pva_S03(\n",
    "            WhiteHouse_mean_prop[\"prior\"][\"position\"],\n",
    "            WhiteHouse_mean_prop[\"prior\"][\"velocity\"],\n",
    "            WhiteHouse_mean_prop[\"prior\"][\"attitude\"],\n",
    "            gamma,\n",
    "            WhiteHouse_mean_prop[\"specific_force\"],\n",
    "            WhiteHouse_mean_prop[\"angular_rate\"],\n",
    "            WhiteHouse_mean_prop[\"dt\"],\n",
    "        )\n",
    "    )\n",
    "\n",
    "end = timer()\n",
    "print_time(\"Timing, pure-python\", start, end)\n",
    "\n",
    "# Print results and error if tol exceeded\n",
    "for key in posterior:\n",
    "    rslt = posterior[key]\n",
    "    expected = WhiteHouse_mean_prop[\"posterior\"][key]\n",
    "    print_error_rel(\"%s\" % key[0], rslt, expected)\n",
    "    assert error_rel(rslt, expected) < tol, \"C++ does not match reference.\"\n",
    "print(\"Success!\")"
   ]
  }
 ],
 "metadata": {
  "kernelspec": {
   "display_name": "ennui_dev",
   "language": "python",
   "name": "python3"
  },
  "language_info": {
   "codemirror_mode": {
    "name": "ipython",
    "version": 3
   },
   "file_extension": ".py",
   "mimetype": "text/x-python",
   "name": "python",
   "nbconvert_exporter": "python",
   "pygments_lexer": "ipython3",
   "version": "3.12.4"
  }
 },
 "nbformat": 4,
 "nbformat_minor": 2
}
